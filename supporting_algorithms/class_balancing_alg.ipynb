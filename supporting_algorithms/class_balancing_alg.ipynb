{
 "cells": [
  {
   "cell_type": "code",
   "execution_count": 19,
   "id": "104af582-5aa7-4fba-b5c2-6792653b95a2",
   "metadata": {},
   "outputs": [
    {
     "name": "stdout",
     "output_type": "stream",
     "text": [
      "Balancing complete.\n",
      "Total valid .mat files processed: 3064\n",
      "Class 1 contains 708 files.\n",
      "Class 2 contains 708 files.\n",
      "Class 3 contains 708 files.\n"
     ]
    }
   ],
   "source": [
    "import os\n",
    "import shutil\n",
    "from random import sample\n",
    "import hdf5storage\n",
    "\n",
    "imbalanced_dataset_path = '/Users/elizabethnemeti/Desktop/imbalanced_data'\n",
    "balanced_dataset_path = '/Users/elizabethnemeti/Desktop/balanced_data'\n",
    "\n",
    "# Ensure the balanced dataset path exists\n",
    "os.makedirs(balanced_dataset_path, exist_ok=True)\n",
    "\n",
    "# Function to load .mat file data\n",
    "def load_mat_file(file_path):\n",
    "    try:\n",
    "        return hdf5storage.loadmat(file_path)\n",
    "    except Exception as e:\n",
    "        print(f\"Error loading {file_path}: {e}\")\n",
    "        return None\n",
    "\n",
    "# Initialize dictionaries for organizing and counting files\n",
    "file_paths = {'1': [], '2': [], '3': []}\n",
    "class_counts = {'1': 0, '2': 0, '3': 0}\n",
    "\n",
    "# Read .mat files and organize by class label\n",
    "total_files = 0\n",
    "\n",
    "for root, dirs, files in os.walk(imbalanced_dataset_path):\n",
    "    for file in files:\n",
    "        if file == '.DS_Store' or not file.endswith('.mat'):\n",
    "            continue  # Skip non-MAT files and .DS_Store\n",
    "        total_files += 1\n",
    "        file_path = os.path.join(root, file)\n",
    "        mat_data = load_mat_file(file_path)\n",
    "        if mat_data and 'cjdata' in mat_data:\n",
    "            label = str(int(mat_data['cjdata']['label'][0][0]))\n",
    "            file_paths[label].append(file_path)\n",
    "        else:\n",
    "            print(f\"Invalid or missing 'cjdata' in file: {file_path}\")\n",
    "\n",
    "# Balance and copy files to the new directory\n",
    "for label, paths in file_paths.items():\n",
    "    selected_paths = sample(paths, 708) if len(paths) > 708 else paths\n",
    "    class_counts[label] = len(selected_paths)\n",
    "    for file_path in selected_paths:\n",
    "        shutil.copy(file_path, balanced_dataset_path)\n",
    "\n",
    "print(\"Balancing complete.\")\n",
    "print(f\"Total valid .mat files processed: {total_files}\")\n",
    "\n",
    "# Verification step: print how many files are in each class\n",
    "for label, count in class_counts.items():\n",
    "    print(f\"Class {label} contains {count} files.\")\n"
   ]
  },
  {
   "cell_type": "code",
   "execution_count": null,
   "id": "4e059c10-aff4-4ff2-a218-ac68b9f7b419",
   "metadata": {},
   "outputs": [],
   "source": []
  }
 ],
 "metadata": {
  "kernelspec": {
   "display_name": "Python (UNETENV)",
   "language": "python",
   "name": "unetenv"
  },
  "language_info": {
   "codemirror_mode": {
    "name": "ipython",
    "version": 3
   },
   "file_extension": ".py",
   "mimetype": "text/x-python",
   "name": "python",
   "nbconvert_exporter": "python",
   "pygments_lexer": "ipython3",
   "version": "3.11.5"
  }
 },
 "nbformat": 4,
 "nbformat_minor": 5
}
