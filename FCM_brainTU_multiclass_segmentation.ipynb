{
 "cells": [
  {
   "cell_type": "code",
   "execution_count": 55,
   "id": "fceff38e-ba0c-4766-8fec-2ee82992b7f4",
   "metadata": {},
   "outputs": [],
   "source": [
    "import numpy as np\n",
    "import h5py\n",
    "import cv2\n",
    "import matplotlib.pyplot as plt\n",
    "from scipy.io import loadmat\n",
    "import sklearn\n",
    "from skimage import exposure, morphology, io\n",
    "from skimage.segmentation import active_contour\n",
    "import os\n",
    "import sys\n",
    "import glob\n",
    "from sklearn.cluster import KMeans"
   ]
  },
  {
   "cell_type": "code",
   "execution_count": 58,
   "id": "0ed35506-5f74-42c7-8feb-a6dd4a8605e1",
   "metadata": {},
   "outputs": [
    {
     "name": "stdout",
     "output_type": "stream",
     "text": [
      "Keys in the .mat file:\n",
      "__header__\n",
      "__version__\n",
      "__globals__\n",
      "image\n"
     ]
    }
   ],
   "source": [
    "def check_mat_file_structure(file_path):\n",
    "    # Load the .mat file using hdf5storage\n",
    "    data = hdf5storage.loadmat(file_path)\n",
    "    print(\"Keys in the .mat file:\")\n",
    "    for key in data.keys():\n",
    "        print(key)\n",
    "    return data\n",
    "\n",
    "# Specify the path to one of your .mat files\n",
    "file_path = '/Users/elizabethnemeti/Desktop/subset/1.mat'  # Adjust the path and filename as necessary\n",
    "\n",
    "# Check the structure of the .mat file\n",
    "mat_data = check_mat_file_structure(file_path)"
   ]
  },
  {
   "cell_type": "code",
   "execution_count": 72,
   "id": "0e0298b0-1a2a-42f6-8953-e4f80b006334",
   "metadata": {},
   "outputs": [],
   "source": [
    "def load_and_preprocess_data(data_dir, image_dimension=512):\n",
    "    images = []\n",
    "    files = os.listdir(data_dir)\n",
    "\n",
    "    print(f\"Total files found: {len(files)}\")\n",
    "    processed_count = 0\n",
    "\n",
    "    for i, file in enumerate(files, start=1):\n",
    "        try:\n",
    "            mat_file = hdf5storage.loadmat(os.path.join(data_dir, file))  # Load the .mat file\n",
    "            if 'image' in mat_file:\n",
    "                image = mat_file['image']\n",
    "                # Check if the image is 3D and handle accordingly:\n",
    "                if image.ndim == 3:\n",
    "                    # Select the middle slice from the volume\n",
    "                    middle_slice_index = image.shape[2] // 2\n",
    "                    image = image[:, :, middle_slice_index]\n",
    "                image = cv2.resize(image, (image_dimension, image_dimension), interpolation=cv2.INTER_CUBIC)\n",
    "                image = image.astype(np.float32) / 255.0  # Scale image to range [0, 1]\n",
    "                images.append(image)\n",
    "                processed_count += 1\n",
    "            else:\n",
    "                print(f\"Image key not found in {file}\")\n",
    "\n",
    "            if i % 10 == 0:\n",
    "                sys.stdout.write(f'\\r[{i}/{len(files)}] images loaded: {i / float(len(files)) * 100:.1f} %')\n",
    "                sys.stdout.flush()\n",
    "\n",
    "        except Exception as e:\n",
    "            print(f\"Failed to process file {file}: {e}\")\n",
    "\n",
    "    print(f\"\\nFinished loading and processing data. Successfully processed {processed_count}/{len(files)} files.\")\n",
    "    return np.array(images)\n",
    "    print(images)\n"
   ]
  },
  {
   "cell_type": "markdown",
   "id": "c3b97f9d-7f25-4ab1-acaf-21ef83fbfd7d",
   "metadata": {},
   "source": [
    "# Define a function to handle the .mat files\n",
    "def load_mat_file_v73(file_path):\n",
    "    with h5py.File(file_path, 'r') as file:\n",
    "        cjdata = file['cjdata']\n",
    "        image = np.array(cjdata['image']).T  # Transpose might be necessary depending on the orientation\n",
    "        tumorMask = np.array(cjdata['tumorMask']).T  # Transpose if needed\n",
    "        return image, tumorMask\n",
    "\n",
    "# Reading all .mat files\n",
    "all_files = glob.glob(os.path.join(files_path, '*.mat'))\n",
    "for file_path in all_files:\n",
    "    image, tumorMask = load_mat_file_v73(file_path)"
   ]
  },
  {
   "cell_type": "markdown",
   "id": "38632e4c-4f2f-4a38-9cb5-86c75acecf6a",
   "metadata": {},
   "source": [
    "FCM Cluster Function"
   ]
  },
  {
   "cell_type": "code",
   "execution_count": 56,
   "id": "fafa0db9-b074-4316-b630-8fdfb2fd3e36",
   "metadata": {},
   "outputs": [
    {
     "name": "stdout",
     "output_type": "stream",
     "text": [
      "Label Image: [[0 0 0 ... 0 0 0]\n",
      " [0 0 0 ... 0 0 0]\n",
      " [0 0 0 ... 0 0 0]\n",
      " ...\n",
      " [0 0 0 ... 0 0 0]\n",
      " [0 0 0 ... 0 0 0]\n",
      " [0 0 0 ... 0 0 0]]\n",
      "Centroids: [128. 130. 141.]\n"
     ]
    }
   ],
   "source": [
    "def tools_FCM(im, c=2, q=2):\n",
    "    if not np.issubdtype(im.dtype, np.integer):\n",
    "        raise ValueError(\"Input image must be in an integer format.\")\n",
    "    if np.isnan(im).any() or np.isinf(im).any():\n",
    "        raise ValueError(\"Input image contains NaNs or Inf values.\")\n",
    "\n",
    "    # Intensity range and histogram\n",
    "    Imin, Imax = np.min(im), np.max(im)\n",
    "    I = np.arange(Imin, Imax + 1, dtype=np.float32)\n",
    "    H, bin_edges = np.histogram(im, bins=len(I), range=(Imin, Imax))\n",
    "\n",
    "    # Initial centroids using K-means or given centroids\n",
    "    if isinstance(c, int) and c > 1:\n",
    "        km = KMeans(n_clusters=c)\n",
    "        weights = H.reshape(-1, 1) * I.reshape(-1, 1)\n",
    "        km.fit(weights)\n",
    "        C = km.cluster_centers_.flatten()\n",
    "    else:\n",
    "        C = np.array(c, dtype=float)\n",
    "\n",
    "    dC = np.inf\n",
    "    while dC > 1E-6:  # Convergence threshold\n",
    "        C0 = C.copy()\n",
    "\n",
    "        # Compute distances and update fuzzy memberships\n",
    "        D = np.abs(I[:, np.newaxis] - C)\n",
    "        D = np.power(D, 2 / (q - 1)) + np.finfo(np.float32).eps\n",
    "\n",
    "        U = 1 / (D / np.sum(D, axis=1, keepdims=True) + np.finfo(np.float32).eps)\n",
    "\n",
    "        # Update centroids\n",
    "        UH = (U ** q) * H[:, np.newaxis]\n",
    "        C = np.sum(UH * I[:, np.newaxis], axis=0) / np.sum(UH, axis=0)\n",
    "        C.sort()  # Enforce natural order\n",
    "\n",
    "        # Calculate change in centroids\n",
    "        dC = np.max(np.abs(C - C0))\n",
    "\n",
    "    # Defuzzify and create a label image\n",
    "    LUT = np.argmax(U, axis=1)\n",
    "    L = LUT2label(im, LUT, Imin)\n",
    "\n",
    "    return L, C, U, LUT, H\n",
    "\n",
    "def LUT2label(im, LUT, Imin):\n",
    "    L = np.zeros_like(im, dtype=np.uint8)\n",
    "    for k in np.unique(LUT):\n",
    "        bw = (im == Imin + k)\n",
    "        L[bw] = k + 1  # Classes are labeled starting from 1\n",
    "    return L\n",
    "\n",
    "# Testing the function\n",
    "image = np.random.randint(0, 256, (100, 100), dtype=np.uint8)\n",
    "L, C, U, LUT, H = tools_FCM(image, 3, 2)\n",
    "print(\"Label Image:\", L)\n",
    "print(\"Centroids:\", C)"
   ]
  },
  {
   "cell_type": "markdown",
   "id": "ee9ef7bc-17fd-44ae-9ee4-e43277a40541",
   "metadata": {},
   "source": [
    "Active contour function"
   ]
  },
  {
   "cell_type": "markdown",
   "id": "e19afb45-d937-4b2f-945b-da445f674814",
   "metadata": {},
   "source": [
    " K-Means Function"
   ]
  },
  {
   "cell_type": "markdown",
   "id": "81add224-5f12-4241-9325-511973e60e4f",
   "metadata": {},
   "source": [
    "Segmentation"
   ]
  },
  {
   "cell_type": "code",
   "execution_count": null,
   "id": "6781e7f8-8bd4-4345-96e0-1d90d49b2f6b",
   "metadata": {},
   "outputs": [],
   "source": [
    "# Configuration for plots\n",
    "plt.style.use('seaborn-v0_8-white')\n",
    "\n",
    "# Define path and parameters\n",
    "files_path = '/Users/elizabethnemeti/Desktop/data'\n",
    "fuzziness = 3\n",
    "numClust = 3\n",
    "winSize = 7\n",
    "lengthPenalty = 0.000001\n",
    "iteration = 400\n",
    "epsilon = 0.3\n",
    "\n",
    "# Define a function for Fuzzy C-Means Clustering (placeholder)\n",
    "def fuzzy_c_means(image, n_clusters, fuzziness):\n",
    "    # Implement FCM clustering or use an existing library function\n",
    "    # For actual use, you would replace this with actual FCM implementation\n",
    "    # This is just a placeholder to show where FCM would be called\n",
    "    pass\n",
    "\n",
    "    # Normalize and convert image to uint8\n",
    "    img = exposure.rescale_intensity(img, out_range=(0, 255)).astype(np.uint8)\n",
    "\n",
    "    # Placeholder for Fuzzy C-Means clustering\n",
    "    output_temp = fuzzy_c_means(img, numClust, fuzziness)\n",
    "    img_fuzzy = (output_temp == numClust)\n",
    "    img_fuzzy = morphology.remove_small_objects(img_fuzzy, min_size=5)\n",
    "    img_fuzzy = morphology.binary_fill_holes(img_fuzzy)\n",
    "\n",
    "    # Prepare for output\n",
    "    output = np.zeros(img.shape, dtype=np.uint8)\n",
    "    plt.figure(figsize=(12, 6))\n",
    "    plt.subplot(1, 2, 1)\n",
    "    \n",
    "    # Placeholder for Active Contour - use snake\n",
    "    output = active_contour(img, tumorMask, alpha=winSize, beta=lengthPenalty,\n",
    "                            gamma=epsilon, max_iterations=iteration)\n",
    "    output = morphology.binary_fill_holes(output)\n",
    "\n",
    "    plt.subplot(1, 2, 2)\n",
    "    plt.imshow(np.dstack((img, img, img)))  # Convert grayscale to RGB\n",
    "    plt.imshow(output, alpha=0.5)  # Overlay the segmentation mask\n",
    "    plt.title(f'Processed Image: {os.path.basename(file_path)}')\n",
    "\n",
    "    # Save results\n",
    "    op_folder = os.path.join(os.path.dirname(file_path), 'ProcessedImages')\n",
    "    os.makedirs(op_folder, exist_ok=True)\n",
    "    io.imsave(os.path.join(op_folder, f'{os.path.splitext(os.path.basename(file_path))[0]}_tumor_mask.png'), output)\n",
    "    masked_rgb_image = img * np.expand_dims(output, axis=-1)\n",
    "    io.imsave(os.path.join(op_folder, f'{os.path.splitext(os.path.basename(file_path))[0]}_ori_masked.png'), masked_rgb_image)\n",
    "    \n",
    "    plt.pause(0.1)  # Short pause to update figures\n",
    "    plt.close('all')  # Close plots to free memory"
   ]
  }
 ],
 "metadata": {
  "kernelspec": {
   "display_name": "Python (UNETENV)",
   "language": "python",
   "name": "unetenv"
  },
  "language_info": {
   "codemirror_mode": {
    "name": "ipython",
    "version": 3
   },
   "file_extension": ".py",
   "mimetype": "text/x-python",
   "name": "python",
   "nbconvert_exporter": "python",
   "pygments_lexer": "ipython3",
   "version": "3.11.5"
  }
 },
 "nbformat": 4,
 "nbformat_minor": 5
}
